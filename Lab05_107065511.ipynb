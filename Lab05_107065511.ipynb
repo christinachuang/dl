{
 "cells": [
  {
   "cell_type": "code",
   "execution_count": 2,
   "metadata": {},
   "outputs": [],
   "source": [
    "%matplotlib inline\n",
    "import pandas as pd\n",
    "import numpy as np\n",
    "from sklearn.linear_model import Ridge\n",
    "from sklearn.preprocessing import StandardScaler\n",
    "from sklearn.linear_model import Ridge\n",
    "from sklearn.metrics import mean_squared_error\n",
    "from sklearn.model_selection import train_test_split\n",
    "from sklearn.preprocessing import PolynomialFeatures\n",
    "from sklearn.linear_model import LinearRegression\n",
    "from sklearn.metrics import r2_score\n",
    "from pylab import *\n",
    "from sklearn.linear_model import Lasso\n",
    "from sklearn.metrics import accuracy_score"
   ]
  },
  {
   "cell_type": "code",
   "execution_count": 3,
   "metadata": {},
   "outputs": [
    {
     "name": "stdout",
     "output_type": "stream",
     "text": [
      "(52399, 8)\n",
      "Index(['PERIOD', 'GAME_CLOCK', 'SHOT_CLOCK', 'DRIBBLES', 'TOUCH_TIME',\n",
      "       'SHOT_DIST', 'PTS_TYPE', 'CLOSE_DEF_DIST'],\n",
      "      dtype='object')\n",
      "Index(['FGM'], dtype='object')\n",
      "   PERIOD  GAME_CLOCK  SHOT_CLOCK  DRIBBLES  TOUCH_TIME  SHOT_DIST  PTS_TYPE  \\\n",
      "0       2         557        15.5         0         0.7        2.1         2   \n",
      "1       2         151        20.1         0         0.8        2.7         2   \n",
      "2       3         448        14.2         0         0.8        5.1         2   \n",
      "3       1         279        10.6         0         0.6        1.9         2   \n",
      "\n",
      "   CLOSE_DEF_DIST  \n",
      "0             0.0  \n",
      "1             3.4  \n",
      "2             0.1  \n",
      "3             2.7  \n",
      "   FGM\n",
      "0    1\n",
      "1    1\n",
      "2    0\n",
      "3    1\n"
     ]
    }
   ],
   "source": [
    "X_train = pd.read_csv('./data/nba/X_train.csv')\n",
    "y_train = pd.read_csv('./data/nba/y_train.csv')\n",
    "\n",
    "X_test = pd.read_csv('./data/nba/X_test.csv')\n",
    "print(X_train.shape)\n",
    "print(X_train.columns)\n",
    "print(y_train.columns)\n",
    "print(X_train[:4])\n",
    "print(y_train[:4])"
   ]
  },
  {
   "cell_type": "code",
   "execution_count": 4,
   "metadata": {},
   "outputs": [],
   "source": [
    "def pd2np(df):\n",
    "    return df.as_matrix()"
   ]
  },
  {
   "cell_type": "code",
   "execution_count": 5,
   "metadata": {},
   "outputs": [
    {
     "name": "stdout",
     "output_type": "stream",
     "text": [
      "<class 'numpy.ndarray'>\n",
      "(52399, 8)\n"
     ]
    },
    {
     "name": "stderr",
     "output_type": "stream",
     "text": [
      "D:\\Miniconda3\\lib\\site-packages\\ipykernel_launcher.py:2: FutureWarning: Method .as_matrix will be removed in a future version. Use .values instead.\n",
      "  \n"
     ]
    }
   ],
   "source": [
    "X_train = pd2np(X_train)\n",
    "y_train = pd2np(y_train)\n",
    "\n",
    "X_test = pd2np(X_test)\n",
    "print(type(X_train))\n",
    "print(X_train.shape)"
   ]
  },
  {
   "cell_type": "markdown",
   "metadata": {},
   "source": [
    "# Split Data"
   ]
  },
  {
   "cell_type": "markdown",
   "metadata": {},
   "source": [
    "我把training data set切成兩個部分，分別為training set和validation set。"
   ]
  },
  {
   "cell_type": "code",
   "execution_count": 6,
   "metadata": {},
   "outputs": [
    {
     "name": "stdout",
     "output_type": "stream",
     "text": [
      "Training set points:31439\n",
      "Validation set points:20960\n",
      "Testing set points:13100\n"
     ]
    }
   ],
   "source": [
    "X_train2, X_valid, y_train2, y_valid = train_test_split(X_train, y_train, test_size=0.4, random_state=50)\n",
    "sc_x = StandardScaler()\n",
    "Xtr_std = sc_x.fit_transform(X_train2)\n",
    "Xv_std = sc_x.fit_transform(X_valid)\n",
    "Xte_std = sc_x.fit_transform(X_test)\n",
    "print('Training set points:{}'.format(Xtr_std.shape[0]))\n",
    "print('Validation set points:{}'.format(Xv_std.shape[0]))\n",
    "print('Testing set points:{}'.format(Xte_std.shape[0]))"
   ]
  },
  {
   "cell_type": "markdown",
   "metadata": {},
   "source": [
    "# Feature Selection"
   ]
  },
  {
   "cell_type": "markdown",
   "metadata": {},
   "source": [
    "我利用random forest來找出feature各自的重要性，並選出前三個組成新的data，分別為'GAME_CLOCK'、'SHOT_DIST'和'SHOT_CLOCK'。"
   ]
  },
  {
   "cell_type": "code",
   "execution_count": 7,
   "metadata": {},
   "outputs": [
    {
     "name": "stderr",
     "output_type": "stream",
     "text": [
      "D:\\Miniconda3\\lib\\site-packages\\sklearn\\ensemble\\weight_boosting.py:29: DeprecationWarning: numpy.core.umath_tests is an internal NumPy module and should not be imported. It will be removed in a future NumPy release.\n",
      "  from numpy.core.umath_tests import inner1d\n",
      "D:\\Miniconda3\\lib\\site-packages\\ipykernel_launcher.py:3: DataConversionWarning: A column-vector y was passed when a 1d array was expected. Please change the shape of y to (n_samples,), for example using ravel().\n",
      "  This is separate from the ipykernel package so we can avoid doing imports until\n"
     ]
    },
    {
     "name": "stdout",
     "output_type": "stream",
     "text": [
      "[1 5 2 7 4 0 3 6]\n",
      "[0.20097321 0.19893617 0.17817432 0.17151347 0.14101623 0.05228013\n",
      " 0.0498692  0.00723728]\n"
     ]
    }
   ],
   "source": [
    "from sklearn.ensemble import RandomForestClassifier\n",
    "forest = RandomForestClassifier(criterion='entropy',n_estimators=200,random_state=1,n_jobs=2)\n",
    "forest.fit(Xtr_std, y_train2)\n",
    "importances = forest.feature_importances_\n",
    "indices = np.argsort(importances)[::-1]\n",
    "print(indices)\n",
    "print(importances[indices])\n",
    "importances_sort=importances[indices]\n",
    "Xtr_cho = Xtr_std[:,indices[:3]]\n",
    "Xv_cho = Xv_std[:,indices[:3]]\n",
    "Xte_cho = Xte_std[:,indices[:3]]"
   ]
  },
  {
   "cell_type": "markdown",
   "metadata": {},
   "source": [
    "# Model-Ridge and Lasso"
   ]
  },
  {
   "cell_type": "markdown",
   "metadata": {},
   "source": [
    "這個部分我使用RidgeClassifier()以及Lasso()來進行training，由於不知道合適的degree和alpha值為多少，因此利用迴圈的方式來找，一開始想用mse最低來找，後來發現mse的值沒有差很多看不太出來，所以決定用accyracy來看，由最下面印出accuracy的地方可以看到最高的是當degree=4、alpha=0.01時，用Lasso得出0.62的accuracy，這也是全部我試過的model中最高的。"
   ]
  },
  {
   "cell_type": "code",
   "execution_count": 8,
   "metadata": {},
   "outputs": [
    {
     "name": "stdout",
     "output_type": "stream",
     "text": [
      "\n",
      "[Degree = 1]\n",
      "--RIDGE--\n",
      "[Alpha = 0]\n",
      "MSE train: 0.4064, test: 0.3972\n",
      "Accuracy(train): 0.59\n",
      "Accuracy(valid): 0.60\n",
      "[Alpha = 1]\n",
      "MSE train: 0.4064, test: 0.3972\n",
      "Accuracy(train): 0.59\n",
      "Accuracy(valid): 0.60\n",
      "[Alpha = 10]\n",
      "MSE train: 0.4064, test: 0.3972\n",
      "Accuracy(train): 0.59\n",
      "Accuracy(valid): 0.60\n",
      "[Alpha = 100]\n",
      "MSE train: 0.4063, test: 0.3971\n",
      "Accuracy(train): 0.59\n",
      "Accuracy(valid): 0.60\n",
      "[Alpha = 1000]\n",
      "MSE train: 0.4058, test: 0.3962\n",
      "Accuracy(train): 0.59\n",
      "Accuracy(valid): 0.60\n",
      "--LASSO--\n",
      "[Alpha = 0.00]\n",
      "MSE train: 0.4063, test: 0.3975\n",
      "Accuracy(train): 0.59\n",
      "Accuracy(valid): 0.60\n",
      "[Alpha = 0.01]\n",
      "MSE train: 0.4050, test: 0.3954\n",
      "Accuracy(train): 0.60\n",
      "Accuracy(valid): 0.60\n",
      "[Alpha = 0.10]\n",
      "MSE train: 0.4589, test: 0.4523\n",
      "Accuracy(train): 0.54\n",
      "Accuracy(valid): 0.55\n",
      "[Alpha = 1.00]\n",
      "MSE train: 0.4589, test: 0.4523\n",
      "Accuracy(train): 0.54\n",
      "Accuracy(valid): 0.55\n",
      "[Alpha = 10.00]\n",
      "MSE train: 0.4589, test: 0.4523\n",
      "Accuracy(train): 0.54\n",
      "Accuracy(valid): 0.55\n",
      "\n",
      "[Degree = 2]\n",
      "--RIDGE--\n",
      "[Alpha = 0]\n",
      "MSE train: 0.4015, test: 0.3924\n",
      "Accuracy(train): 0.60\n",
      "Accuracy(valid): 0.61\n",
      "[Alpha = 1]\n",
      "MSE train: 0.4015, test: 0.3924\n",
      "Accuracy(train): 0.60\n",
      "Accuracy(valid): 0.61"
     ]
    },
    {
     "name": "stderr",
     "output_type": "stream",
     "text": [
      "D:\\Miniconda3\\lib\\site-packages\\sklearn\\linear_model\\ridge.py:810: DataConversionWarning: A column-vector y was passed when a 1d array was expected. Please change the shape of y to (n_samples, ), for example using ravel().\n",
      "  y = column_or_1d(y, warn=True)\n"
     ]
    },
    {
     "name": "stdout",
     "output_type": "stream",
     "text": [
      "\n",
      "[Alpha = 10]\n",
      "MSE train: 0.4014, test: 0.3923\n",
      "Accuracy(train): 0.60\n",
      "Accuracy(valid): 0.61\n",
      "[Alpha = 100]\n",
      "MSE train: 0.4015, test: 0.3921\n",
      "Accuracy(train): 0.60\n",
      "Accuracy(valid): 0.61\n",
      "[Alpha = 1000]\n",
      "MSE train: 0.4012, test: 0.3928\n",
      "Accuracy(train): 0.60\n",
      "Accuracy(valid): 0.61\n",
      "--LASSO--\n",
      "[Alpha = 0.00]\n",
      "MSE train: 0.4019, test: 0.3926\n",
      "Accuracy(train): 0.60\n",
      "Accuracy(valid): 0.61\n",
      "[Alpha = 0.01]\n",
      "MSE train: 0.4030, test: 0.3929\n",
      "Accuracy(train): 0.60\n",
      "Accuracy(valid): 0.61\n",
      "[Alpha = 0.10]\n",
      "MSE train: 0.4589, test: 0.4523\n",
      "Accuracy(train): 0.54\n",
      "Accuracy(valid): 0.55\n",
      "[Alpha = 1.00]\n",
      "MSE train: 0.4589, test: 0.4523\n",
      "Accuracy(train): 0.54\n",
      "Accuracy(valid): 0.55\n",
      "[Alpha = 10.00]\n",
      "MSE train: 0.4589, test: 0.4523\n",
      "Accuracy(train): 0.54\n",
      "Accuracy(valid): 0.55\n",
      "\n",
      "[Degree = 3]\n",
      "--RIDGE--\n",
      "[Alpha = 0]\n",
      "MSE train: 0.3924, test: 0.3875\n",
      "Accuracy(train): 0.61\n",
      "Accuracy(valid): 0.61\n",
      "[Alpha = 1]\n",
      "MSE train: 0.3924, test: 0.3875\n",
      "Accuracy(train): 0.61\n",
      "Accuracy(valid): 0.61\n",
      "[Alpha = 10]\n",
      "MSE train: 0.3924, test: 0.3875\n",
      "Accuracy(train): 0.61\n",
      "Accuracy(valid): 0.61\n",
      "[Alpha = 100]\n",
      "MSE train: 0.3925, test: 0.3875\n",
      "Accuracy(train): 0.61\n",
      "Accuracy(valid): 0.61\n",
      "[Alpha = 1000]\n",
      "MSE train: 0.3923, test: 0.3873\n",
      "Accuracy(train): 0.61\n",
      "Accuracy(valid): 0.61\n",
      "--LASSO--\n",
      "[Alpha = 0.00]\n",
      "MSE train: 0.3923, test: 0.3873\n",
      "Accuracy(train): 0.61\n",
      "Accuracy(valid): 0.61\n",
      "[Alpha = 0.01]\n",
      "MSE train: 0.3920, test: 0.3869\n",
      "Accuracy(train): 0.61\n",
      "Accuracy(valid): 0.61\n",
      "[Alpha = 0.10]\n",
      "MSE train: 0.4326, test: 0.4298\n",
      "Accuracy(train): 0.57\n",
      "Accuracy(valid): 0.57\n",
      "[Alpha = 1.00]\n",
      "MSE train: 0.4589, test: 0.4523\n",
      "Accuracy(train): 0.54\n",
      "Accuracy(valid): 0.55\n",
      "[Alpha = 10.00]\n",
      "MSE train: 0.4589, test: 0.4523\n",
      "Accuracy(train): 0.54\n",
      "Accuracy(valid): 0.55\n",
      "\n",
      "[Degree = 4]\n",
      "--RIDGE--\n",
      "[Alpha = 0]\n",
      "MSE train: 0.3925, test: 0.3875\n",
      "Accuracy(train): 0.61\n",
      "Accuracy(valid): 0.61\n",
      "[Alpha = 1]\n",
      "MSE train: 0.3926, test: 0.3875\n",
      "Accuracy(train): 0.61\n",
      "Accuracy(valid): 0.61\n",
      "[Alpha = 10]\n",
      "MSE train: 0.3925, test: 0.3874\n",
      "Accuracy(train): 0.61\n",
      "Accuracy(valid): 0.61\n",
      "[Alpha = 100]\n",
      "MSE train: 0.3925, test: 0.3875\n",
      "Accuracy(train): 0.61\n",
      "Accuracy(valid): 0.61\n",
      "[Alpha = 1000]\n",
      "MSE train: 0.3920, test: 0.3874\n",
      "Accuracy(train): 0.61\n",
      "Accuracy(valid): 0.61\n",
      "--LASSO--\n",
      "[Alpha = 0.00]\n",
      "MSE train: 0.3928, test: 0.3859\n",
      "Accuracy(train): 0.61\n",
      "Accuracy(valid): 0.61\n",
      "[Alpha = 0.01]\n",
      "MSE train: 0.3919, test: 0.3843\n",
      "Accuracy(train): 0.61\n",
      "Accuracy(valid): 0.62\n",
      "[Alpha = 0.10]\n",
      "MSE train: 0.4326, test: 0.4298\n",
      "Accuracy(train): 0.57\n",
      "Accuracy(valid): 0.57\n",
      "[Alpha = 1.00]\n",
      "MSE train: 0.4589, test: 0.4523\n",
      "Accuracy(train): 0.54\n",
      "Accuracy(valid): 0.55\n",
      "[Alpha = 10.00]\n",
      "MSE train: 0.4589, test: 0.4523\n",
      "Accuracy(train): 0.54\n",
      "Accuracy(valid): 0.55\n",
      "\n",
      "[Degree = 5]\n",
      "--RIDGE--\n",
      "[Alpha = 0]\n",
      "MSE train: 0.3912, test: 0.3869\n",
      "Accuracy(train): 0.61\n",
      "Accuracy(valid): 0.61\n",
      "[Alpha = 1]\n",
      "MSE train: 0.3910, test: 0.3871\n",
      "Accuracy(train): 0.61\n",
      "Accuracy(valid): 0.61\n",
      "[Alpha = 10]\n",
      "MSE train: 0.3912, test: 0.3871\n",
      "Accuracy(train): 0.61\n",
      "Accuracy(valid): 0.61\n",
      "[Alpha = 100]\n",
      "MSE train: 0.3912, test: 0.3872\n",
      "Accuracy(train): 0.61\n",
      "Accuracy(valid): 0.61\n",
      "[Alpha = 1000]\n",
      "MSE train: 0.3927, test: 0.3873\n",
      "Accuracy(train): 0.61\n",
      "Accuracy(valid): 0.61\n",
      "--LASSO--\n",
      "[Alpha = 0.00]\n",
      "MSE train: 0.3923, test: 0.3856\n",
      "Accuracy(train): 0.61\n",
      "Accuracy(valid): 0.61\n",
      "[Alpha = 0.01]\n",
      "MSE train: 0.3921, test: 0.3841\n",
      "Accuracy(train): 0.61\n",
      "Accuracy(valid): 0.62\n",
      "[Alpha = 0.10]\n",
      "MSE train: 0.4401, test: 0.4350\n",
      "Accuracy(train): 0.56\n",
      "Accuracy(valid): 0.57\n",
      "[Alpha = 1.00]\n",
      "MSE train: 0.4589, test: 0.4523\n",
      "Accuracy(train): 0.54\n",
      "Accuracy(valid): 0.55\n",
      "[Alpha = 10.00]\n",
      "MSE train: 0.4589, test: 0.4523\n",
      "Accuracy(train): 0.54\n",
      "Accuracy(valid): 0.55\n"
     ]
    }
   ],
   "source": [
    "from sklearn.linear_model import RidgeClassifier\n",
    "mse_train =[]\n",
    "mse_test = []\n",
    "\n",
    "for d in range(1, 6):\n",
    "    print('\\n[Degree = %d]' % d ) \n",
    "    poly = PolynomialFeatures(degree=d)\n",
    "    Xtr_poly = poly.fit_transform(Xtr_cho)\n",
    "    Xv_poly = poly.fit_transform(Xv_cho)\n",
    "    print('--RIDGE--')    \n",
    "    for a in [0, 1, 10, 100, 1000]:\n",
    "        lr_rg=RidgeClassifier(alpha=a)\n",
    "        lr_rg.fit(Xtr_poly, y_train2)\n",
    "        y_train_pred = lr_rg.predict(Xtr_poly)\n",
    "        y_test_pred = lr_rg.predict(Xv_poly)\n",
    "        print('[Alpha = %d]' % a )\n",
    "        print('MSE train: %.4f, test: %.4f' % (mean_squared_error(y_train2, y_train_pred),mean_squared_error(y_valid, y_test_pred)))\n",
    "        print('Accuracy(train): %.2f' % accuracy_score(y_train2, y_train_pred))\n",
    "        print('Accuracy(valid): %.2f' % accuracy_score(y_valid, y_test_pred))\n",
    "    print('--LASSO--')\n",
    "    for b in [0.001, 0.01, 0.1, 1, 10]:\n",
    "        lr_rg = Lasso(alpha=b)      \n",
    "        lr_rg.fit(Xtr_poly, y_train2)\n",
    "        y_train_pred = lr_rg.predict(Xtr_poly)\n",
    "        y_test_pred = lr_rg.predict(Xv_poly)\n",
    "        y_train_pred = np.where(y_train_pred >= 0.5, 1, 0)\n",
    "        y_test_pred = np.where(y_test_pred >= 0.5, 1, 0)  \n",
    "        print('[Alpha = %.2f]' % b )\n",
    "        print('MSE train: %.4f, test: %.4f' % (mean_squared_error(y_train2, y_train_pred),mean_squared_error(y_valid, y_test_pred)))\n",
    "        print('Accuracy(train): %.2f' % accuracy_score(y_train2, y_train_pred))\n",
    "        print('Accuracy(valid): %.2f' % accuracy_score(y_valid, y_test_pred))"
   ]
  },
  {
   "cell_type": "markdown",
   "metadata": {},
   "source": [
    "## Write csv file"
   ]
  },
  {
   "cell_type": "markdown",
   "metadata": {},
   "source": [
    "使用結果最好的model來寫y_pred.csv檔。"
   ]
  },
  {
   "cell_type": "code",
   "execution_count": 9,
   "metadata": {},
   "outputs": [
    {
     "name": "stdout",
     "output_type": "stream",
     "text": [
      "[0 0 1 ... 0 0 0]\n"
     ]
    },
    {
     "data": {
      "text/plain": [
       "26201"
      ]
     },
     "execution_count": 9,
     "metadata": {},
     "output_type": "execute_result"
    }
   ],
   "source": [
    "import csv\n",
    "d=4\n",
    "poly = PolynomialFeatures(degree=d)\n",
    "Xtr_poly = poly.fit_transform(Xtr_cho)\n",
    "Xv_poly = poly.fit_transform(Xv_cho)\n",
    "Xte_poly = poly.fit_transform(Xte_cho)\n",
    "lr_rg = Lasso(alpha=0.01)      \n",
    "lr_rg.fit(Xtr_poly, y_train2)\n",
    "y_train_pred = lr_rg.predict(Xtr_poly)\n",
    "y_valid_pred = lr_rg.predict(Xv_poly)\n",
    "y_test_pred = lr_rg.predict(Xte_poly)\n",
    "y_train_pred = np.where(y_train_pred >= 0.5, 1, 0)\n",
    "y_valid_pred = np.where(y_valid_pred >= 0.5, 1, 0)\n",
    "y_test_pred = np.where(y_test_pred >= 0.5, 1, 0)\n",
    "print(y_test_pred)\n",
    "file = open('y_pred.csv', 'w')\n",
    "csvCursor = csv.writer(file)\n",
    "csvCursor.writerow(y_test_pred)"
   ]
  },
  {
   "cell_type": "markdown",
   "metadata": {},
   "source": [
    "## Plot Learning Curve"
   ]
  },
  {
   "cell_type": "markdown",
   "metadata": {},
   "source": [
    "從learning curve圖中的結果可以得知沒有overfit。"
   ]
  },
  {
   "cell_type": "code",
   "execution_count": 10,
   "metadata": {},
   "outputs": [],
   "source": [
    "def mse(model, X, y):\n",
    "    pred = np.where(model.predict(X)>=0.5, 1, 0)\n",
    "    pred = pred[:, np.newaxis]\n",
    "    return ((pred - y)**2).mean()"
   ]
  },
  {
   "cell_type": "code",
   "execution_count": 11,
   "metadata": {},
   "outputs": [
    {
     "name": "stderr",
     "output_type": "stream",
     "text": [
      "D:\\Miniconda3\\lib\\site-packages\\sklearn\\cross_validation.py:41: DeprecationWarning: This module was deprecated in version 0.18 in favor of the model_selection module into which all the refactored classes and functions are moved. Also note that the interface of the new CV iterators are different from that of this module. This module will be removed in 0.20.\n",
      "  \"This module will be removed in 0.20.\", DeprecationWarning)\n",
      "D:\\Miniconda3\\lib\\site-packages\\sklearn\\learning_curve.py:22: DeprecationWarning: This module was deprecated in version 0.18 in favor of the model_selection module into which all the functions are moved. This module will be removed in 0.20\n",
      "  DeprecationWarning)\n"
     ]
    },
    {
     "data": {
      "image/png": "[encoded data removed]",
      "text/plain": [
       "<Figure size 432x288 with 1 Axes>"
      ]
     },
     "metadata": {},
     "output_type": "display_data"
    }
   ],
   "source": [
    "from sklearn.learning_curve import learning_curve\n",
    "#sigma = 1\n",
    "poly = PolynomialFeatures(degree=4)\n",
    "Xtr_poly = poly.fit_transform(Xtr_cho)\n",
    "Xv_poly = poly.fit_transform(Xv_cho)\n",
    "#lr_rg = LinearRegression()\n",
    "lr_rg = Lasso(alpha=0.01)\n",
    "#lr_rg.fit(Xtr_poly, y_train2)\n",
    "train_sizes, train_scores, test_scores = learning_curve(estimator=lr_rg, X=Xtr_poly, \n",
    "                                                        y=y_train2, scoring=mse)\n",
    "train_mean = np.mean(train_scores, axis=1)\n",
    "train_std = np.std(train_scores, axis=1)\n",
    "test_mean = np.mean(test_scores, axis=1)\n",
    "test_std = np.std(test_scores, axis=1)\n",
    "\n",
    "plt.plot(train_sizes, train_mean,\n",
    "    color='blue', marker='o',\n",
    "    markersize=5,\n",
    "    label='Training error')\n",
    "\n",
    "plt.fill_between(train_sizes,\n",
    "    train_mean+train_std,\n",
    "    train_mean-train_std,\n",
    "    alpha=0.01, color='blue')\n",
    "\n",
    "plt.plot(train_sizes, test_mean,\n",
    "    color='green', linestyle='--',\n",
    "    marker='s', markersize=5,\n",
    "    label='Testing error')\n",
    "plt.fill_between(train_sizes,\n",
    "    test_mean+test_std,\n",
    "    test_mean-test_std,\n",
    "    alpha=0.01, color='green')\n",
    "\n",
    "#plt.hlines(y=0.5, xmin=0, xmax=20000, color='red', linewidth=2, linestyle='--')\n",
    "\n",
    "plt.title('Learning Curve')\n",
    "plt.grid()\n",
    "plt.xlabel('Number of training samples')\n",
    "plt.ylabel('MSE')\n",
    "plt.legend(loc='upper right')\n",
    "#plt.ylim([0, 1])\n",
    "plt.tight_layout()\n",
    "#plt.savefig('./output/fig-learning-curve-%d.png' % d, dpi=300)\n",
    "plt.show()"
   ]
  },
  {
   "cell_type": "markdown",
   "metadata": {},
   "source": [
    "# Model-Linear Regression"
   ]
  },
  {
   "cell_type": "markdown",
   "metadata": {},
   "source": [
    "第二個model我是嘗試最簡單的linear regression，在accuracy的部分並沒有到Lasso那麼高。"
   ]
  },
  {
   "cell_type": "code",
   "execution_count": 12,
   "metadata": {},
   "outputs": [
    {
     "name": "stdout",
     "output_type": "stream",
     "text": [
      "Accuracy(train): 0.61\n",
      "Accuracy(valid): 0.61\n"
     ]
    }
   ],
   "source": [
    "cubic = PolynomialFeatures(degree=3)\n",
    "cubic.fit(Xtr_cho)\n",
    "Xtr_lin = cubic.transform(Xtr_cho)\n",
    "Xv_lin = cubic.transform(Xv_cho)\n",
    "Xte_lin = cubic.transform(Xte_cho)\n",
    "s=StandardScaler()\n",
    "s.fit(Xtr_lin)\n",
    "Xtr_linstd = s.transform(Xtr_lin)\n",
    "Xv_linstd = s.transform(Xv_lin)\n",
    "Xte_linstd = s.transform(Xte_lin)\n",
    "cubic_regr = LinearRegression()\n",
    "cubic_regr = cubic_regr.fit(Xtr_linstd, y_train2)\n",
    "y_train_pred = cubic_regr.predict(Xtr_linstd)\n",
    "y_test_pred = cubic_regr.predict(Xv_linstd)\n",
    "y_train_pred = np.where(y_train_pred >= 0.5, 1, 0)\n",
    "y_test_pred = np.where(y_test_pred >= 0.5, 1, 0)  \n",
    "print('Accuracy(train): %.2f' % accuracy_score(y_train2, y_train_pred))\n",
    "print('Accuracy(valid): %.2f' % accuracy_score(y_valid, y_test_pred))"
   ]
  },
  {
   "cell_type": "markdown",
   "metadata": {},
   "source": [
    "# Model-Random Forest"
   ]
  },
  {
   "cell_type": "markdown",
   "metadata": {},
   "source": [
    "我另外也嘗試了random forest的model，training accuracy的結果非常好但用validation set測的accuracy的結果卻不太理想。"
   ]
  },
  {
   "cell_type": "code",
   "execution_count": 13,
   "metadata": {},
   "outputs": [
    {
     "name": "stderr",
     "output_type": "stream",
     "text": [
      "D:\\Miniconda3\\lib\\site-packages\\ipykernel_launcher.py:2: DataConversionWarning: A column-vector y was passed when a 1d array was expected. Please change the shape of y to (n_samples,), for example using ravel().\n",
      "  \n"
     ]
    },
    {
     "name": "stdout",
     "output_type": "stream",
     "text": [
      "Accuracy(train): 1.00\n",
      "Accuracy(valid): 0.57\n"
     ]
    }
   ],
   "source": [
    "forest_forest = RandomForestClassifier(n_estimators=100,n_jobs=2)\n",
    "forest_forest.fit(Xtr_cho, y_train2)\n",
    "y_train_pred = forest_forest.predict(Xtr_cho)\n",
    "y_test_pred = forest_forest.predict(Xv_cho)\n",
    "print('Accuracy(train): %.2f' % accuracy_score(y_train2, y_train_pred))\n",
    "print('Accuracy(valid): %.2f' % accuracy_score(y_valid, y_test_pred))"
   ]
  },
  {
   "cell_type": "markdown",
   "metadata": {},
   "source": [
    "# Report"
   ]
  },
  {
   "cell_type": "markdown",
   "metadata": {},
   "source": [
    "### What I did in this assignment?"
   ]
  },
  {
   "cell_type": "markdown",
   "metadata": {},
   "source": [
    "1.Validation Set and adjust the variables of splittng data."
   ]
  },
  {
   "cell_type": "markdown",
   "metadata": {},
   "source": [
    "2.Use 'Random Forest' to select the three most important features of data.('GAME_CLOCK'、'SHOT_DIST'和'SHOT_CLOCK')"
   ]
  },
  {
   "cell_type": "markdown",
   "metadata": {},
   "source": [
    "3.Use PolymialFeatures to preprocess the data."
   ]
  },
  {
   "cell_type": "markdown",
   "metadata": {},
   "source": [
    "4.Use models including Ridge, Lasso, Linear regression, and Random forest to train the data, and use 'accuracy' and 'mse' to evaluate the data preprocessing data and models."
   ]
  },
  {
   "cell_type": "markdown",
   "metadata": {},
   "source": [
    "5.The result of model: "
   ]
  },
  {
   "cell_type": "markdown",
   "metadata": {},
   "source": [
    "    -Ridge(valid accuracy=0.61)\n",
    "    -Lasso(valid accuracy=0.62)\n",
    "    -Linear Regression(valid accuracy=0.61)\n",
    "    -Random Forest(valid accuracy=0.57)"
   ]
  },
  {
   "cell_type": "code",
   "execution_count": null,
   "metadata": {},
   "outputs": [],
   "source": []
  }
 ],
 "metadata": {
  "kernelspec": {
   "display_name": "Python 3",
   "language": "python",
   "name": "python3"
  },
  "language_info": {
   "codemirror_mode": {
    "name": "ipython",
    "version": 3
   },
   "file_extension": ".py",
   "mimetype": "text/x-python",
   "name": "python",
   "nbconvert_exporter": "python",
   "pygments_lexer": "ipython3",
   "version": "3.6.4"
  }
 },
 "nbformat": 4,
 "nbformat_minor": 2
}
