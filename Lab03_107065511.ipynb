{
 "cells": [
  {
   "cell_type": "code",
   "execution_count": 62,
   "metadata": {},
   "outputs": [],
   "source": [
    "from sklearn.tree import DecisionTreeClassifier\n",
    "from sklearn.model_selection import train_test_split\n",
    "from sklearn.datasets import load_breast_cancer\n",
    "import pandas as pd\n",
    "from sklearn.metrics import accuracy_score\n",
    "from sklearn.ensemble import RandomForestClassifier\n",
    "from sklearn.feature_selection import SelectFromModel\n",
    "%matplotlib inline\n",
    "import numpy as np\n",
    "import matplotlib.pyplot as plt"
   ]
  },
  {
   "cell_type": "code",
   "execution_count": 63,
   "metadata": {},
   "outputs": [
    {
     "data": {
      "text/plain": [
       "RandomForestClassifier(bootstrap=True, class_weight=None, criterion='entropy',\n",
       "            max_depth=None, max_features='auto', max_leaf_nodes=None,\n",
       "            min_impurity_decrease=0.0, min_impurity_split=None,\n",
       "            min_samples_leaf=1, min_samples_split=2,\n",
       "            min_weight_fraction_leaf=0.0, n_estimators=200, n_jobs=2,\n",
       "            oob_score=False, random_state=1, verbose=0, warm_start=False)"
      ]
     },
     "execution_count": 63,
     "metadata": {},
     "output_type": "execute_result"
    }
   ],
   "source": [
    "init_data = load_breast_cancer()\n",
    "(X, y) = load_breast_cancer(return_X_y=True)\n",
    "X_train, X_test, y_train, y_test = train_test_split(X, y, test_size=0.3, random_state=0)\n",
    "forest = RandomForestClassifier(criterion='entropy',n_estimators=200,random_state=1,n_jobs=2)\n",
    "forest.fit(X_train, y_train)"
   ]
  },
  {
   "cell_type": "code",
   "execution_count": 64,
   "metadata": {},
   "outputs": [
    {
     "name": "stdout",
     "output_type": "stream",
     "text": [
      "[27  7 20 22  6 23 13  2  0 26  3 21  1 25 10 28 24  5 12 29 17 15  4 19\n",
      " 18 16 11 14  8  9]\n",
      "[0.14184901 0.11769747 0.11091947 0.10524291 0.07716301 0.07336447\n",
      " 0.04176026 0.03694304 0.03562503 0.03520544 0.03288976 0.02273565\n",
      " 0.01858393 0.01678607 0.01540763 0.01477012 0.01423471 0.0100853\n",
      " 0.01003995 0.00901454 0.00808466 0.00742006 0.00655659 0.00636839\n",
      " 0.006357   0.00613529 0.00585424 0.00509956 0.0045979  0.00320853]\n"
     ]
    }
   ],
   "source": [
    "importances = forest.feature_importances_\n",
    "indices = np.argsort(importances)[::-1]\n",
    "print(indices)\n",
    "print(importances[indices])"
   ]
  },
  {
   "cell_type": "code",
   "execution_count": 65,
   "metadata": {},
   "outputs": [
    {
     "name": "stdout",
     "output_type": "stream",
     "text": [
      "Accuracy: 0.847953\n",
      "Number of feature chosen:1\n",
      "Accuracy per feature: 0.847953\n",
      "Accuracy: 0.888889\n",
      "Number of feature chosen:2\n",
      "Accuracy per feature: 0.444444\n",
      "Accuracy: 0.959064\n",
      "Number of feature chosen:3\n",
      "Accuracy per feature: 0.319688\n",
      "Accuracy: 0.947368\n",
      "Number of feature chosen:4\n",
      "Accuracy per feature: 0.236842\n",
      "Accuracy: 0.941520\n",
      "Number of feature chosen:5\n",
      "Accuracy per feature: 0.188304\n",
      "Accuracy: 0.947368\n",
      "Number of feature chosen:6\n",
      "Accuracy per feature: 0.157895\n",
      "Accuracy: 0.947368\n",
      "Number of feature chosen:7\n",
      "Accuracy per feature: 0.135338\n",
      "Accuracy: 0.953216\n",
      "Number of feature chosen:8\n",
      "Accuracy per feature: 0.119152\n",
      "Accuracy: 0.947368\n",
      "Number of feature chosen:9\n",
      "Accuracy per feature: 0.105263\n",
      "Accuracy: 0.959064\n",
      "Number of feature chosen:10\n",
      "Accuracy per feature: 0.095906\n",
      "Accuracy: 0.953216\n",
      "Number of feature chosen:11\n",
      "Accuracy per feature: 0.086656\n",
      "Accuracy: 0.970760\n",
      "Number of feature chosen:12\n",
      "Accuracy per feature: 0.080897\n",
      "Accuracy: 0.970760\n",
      "Number of feature chosen:13\n",
      "Accuracy per feature: 0.074674\n",
      "Accuracy: 0.982456\n",
      "Number of feature chosen:14\n",
      "Accuracy per feature: 0.070175\n",
      "Accuracy: 0.976608\n",
      "Number of feature chosen:15\n",
      "Accuracy per feature: 0.065107\n",
      "Accuracy: 0.970760\n",
      "Number of feature chosen:16\n",
      "Accuracy per feature: 0.060673\n",
      "Accuracy: 0.976608\n",
      "Number of feature chosen:17\n",
      "Accuracy per feature: 0.057448\n",
      "Accuracy: 0.976608\n",
      "Number of feature chosen:18\n",
      "Accuracy per feature: 0.054256\n",
      "Accuracy: 0.970760\n",
      "Number of feature chosen:19\n",
      "Accuracy per feature: 0.051093\n",
      "Accuracy: 0.970760\n",
      "Number of feature chosen:20\n",
      "Accuracy per feature: 0.048538\n",
      "Accuracy: 0.976608\n",
      "Number of feature chosen:21\n",
      "Accuracy per feature: 0.046505\n",
      "Accuracy: 0.976608\n",
      "Number of feature chosen:22\n",
      "Accuracy per feature: 0.044391\n",
      "Accuracy: 0.976608\n",
      "Number of feature chosen:23\n",
      "Accuracy per feature: 0.042461\n",
      "Accuracy: 0.970760\n",
      "Number of feature chosen:24\n",
      "Accuracy per feature: 0.040448\n",
      "Accuracy: 0.964912\n",
      "Number of feature chosen:25\n",
      "Accuracy per feature: 0.038596\n",
      "Accuracy: 0.976608\n",
      "Number of feature chosen:26\n",
      "Accuracy per feature: 0.037562\n",
      "Accuracy: 0.970760\n",
      "Number of feature chosen:27\n",
      "Accuracy per feature: 0.035954\n",
      "Accuracy: 0.964912\n",
      "Number of feature chosen:28\n",
      "Accuracy per feature: 0.034461\n",
      "Accuracy: 0.970760\n",
      "Number of feature chosen:29\n",
      "Accuracy per feature: 0.033474\n",
      "Accuracy: 0.976608\n",
      "Number of feature chosen:30\n",
      "Accuracy per feature: 0.032554\n"
     ]
    }
   ],
   "source": [
    "importances_sort=importances[indices]\n",
    "apf=np.zeros(3)\n",
    "num=np.zeros(3,dtype=int)\n",
    "acu=np.zeros(3)\n",
    "for i in range(1,len(indices)+1):\n",
    "    sfm=SelectFromModel(forest, threshold=importances_sort[i-1], prefit=True)\n",
    "    X2_train = sfm.transform(X_train)\n",
    "    X2_test = sfm.transform(X_test)\n",
    "    forest_forest = RandomForestClassifier(criterion='entropy',n_estimators=200,random_state=1,n_jobs=2)\n",
    "    forest_forest.fit(X2_train, y_train)\n",
    "    y_pred = forest_forest.predict(X2_test)\n",
    "    print('Accuracy: %.6f' % accuracy_score(y_test, y_pred))\n",
    "    print('Number of feature chosen:%d' % i)\n",
    "    print('Accuracy per feature: %.6f' % (accuracy_score(y_test, y_pred)/X2_train.shape[1]))\n",
    "    if (accuracy_score(y_test, y_pred)/X2_train.shape[1])>apf[2]:\n",
    "        if (accuracy_score(y_test, y_pred)/X2_train.shape[1])>apf[1]:\n",
    "            if (accuracy_score(y_test, y_pred)/X2_train.shape[1])>apf[0]:\n",
    "                apf[0]=accuracy_score(y_test, y_pred)/X2_train.shape[1]\n",
    "                num[0]=i\n",
    "                acu[0]=accuracy_score(y_test, y_pred)\n",
    "            else:\n",
    "                apf[1]=accuracy_score(y_test, y_pred)/X2_train.shape[1]\n",
    "                num[1]=i\n",
    "                acu[1]=accuracy_score(y_test, y_pred) \n",
    "        else:\n",
    "            apf[2]=accuracy_score(y_test, y_pred)/X2_train.shape[1]\n",
    "            num[2]=i\n",
    "            acu[2]=accuracy_score(y_test, y_pred)"
   ]
  },
  {
   "cell_type": "code",
   "execution_count": 66,
   "metadata": {},
   "outputs": [
    {
     "data": {
      "text/html": [
       "<div>\n",
       "<style scoped>\n",
       "    .dataframe tbody tr th:only-of-type {\n",
       "        vertical-align: middle;\n",
       "    }\n",
       "\n",
       "    .dataframe tbody tr th {\n",
       "        vertical-align: top;\n",
       "    }\n",
       "\n",
       "    .dataframe thead th {\n",
       "        text-align: right;\n",
       "    }\n",
       "</style>\n",
       "<table border=\"1\" class=\"dataframe\">\n",
       "  <thead>\n",
       "    <tr style=\"text-align: right;\">\n",
       "      <th></th>\n",
       "      <th>Number of feature chosen</th>\n",
       "      <th>Accuracy</th>\n",
       "      <th>Accuracy per feature</th>\n",
       "    </tr>\n",
       "  </thead>\n",
       "  <tbody>\n",
       "    <tr>\n",
       "      <th>1</th>\n",
       "      <td>1</td>\n",
       "      <td>0.847953</td>\n",
       "      <td>0.847953</td>\n",
       "    </tr>\n",
       "    <tr>\n",
       "      <th>2</th>\n",
       "      <td>2</td>\n",
       "      <td>0.888889</td>\n",
       "      <td>0.444444</td>\n",
       "    </tr>\n",
       "    <tr>\n",
       "      <th>3</th>\n",
       "      <td>3</td>\n",
       "      <td>0.959064</td>\n",
       "      <td>0.319688</td>\n",
       "    </tr>\n",
       "  </tbody>\n",
       "</table>\n",
       "</div>"
      ],
      "text/plain": [
       "   Number of feature chosen  Accuracy  Accuracy per feature\n",
       "1                         1  0.847953              0.847953\n",
       "2                         2  0.888889              0.444444\n",
       "3                         3  0.959064              0.319688"
      ]
     },
     "execution_count": 66,
     "metadata": {},
     "output_type": "execute_result"
    }
   ],
   "source": [
    "df1=pd.DataFrame({'Number of feature chosen':num,\n",
    "                 'Accuracy':acu,\n",
    "                 'Accuracy per feature':apf}\n",
    "                  ,index=[1,2,3])\n",
    "df1.head()"
   ]
  },
  {
   "cell_type": "code",
   "execution_count": null,
   "metadata": {},
   "outputs": [],
   "source": []
  }
 ],
 "metadata": {
  "kernelspec": {
   "display_name": "Python 3",
   "language": "python",
   "name": "python3"
  },
  "language_info": {
   "codemirror_mode": {
    "name": "ipython",
    "version": 3
   },
   "file_extension": ".py",
   "mimetype": "text/x-python",
   "name": "python",
   "nbconvert_exporter": "python",
   "pygments_lexer": "ipython3",
   "version": "3.6.4"
  }
 },
 "nbformat": 4,
 "nbformat_minor": 2
}
